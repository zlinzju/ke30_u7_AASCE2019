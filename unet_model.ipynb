{
 "cells": [
  {
   "cell_type": "code",
   "execution_count": 1,
   "metadata": {},
   "outputs": [],
   "source": [
    "import matplotlib.pyplot as plt\n",
    "%matplotlib inline\n",
    "\n",
    "import pandas as pd\n",
    "import numpy as np\n",
    "import cv2 as cv\n",
    "\n",
    "import os, gc, csv"
   ]
  },
  {
   "cell_type": "code",
   "execution_count": 2,
   "metadata": {},
   "outputs": [],
   "source": [
    "import torch\n",
    "import torchvision.models as models\n",
    "import torch.nn as nn\n",
    "import torch.nn.functional as F\n",
    "import torchvision.transforms as transforms"
   ]
  },
  {
   "cell_type": "code",
   "execution_count": 3,
   "metadata": {},
   "outputs": [
    {
     "name": "stdout",
     "output_type": "stream",
     "text": [
      "use gpu\n"
     ]
    }
   ],
   "source": [
    "gpu = torch.cuda.is_available()\n",
    "device = torch.device(\"cpu\")\n",
    "\n",
    "if gpu:\n",
    "    print(\"use gpu\")\n",
    "    device = torch.device(\"cuda:0\")"
   ]
  },
  {
   "cell_type": "code",
   "execution_count": 4,
   "metadata": {},
   "outputs": [],
   "source": [
    "def img_process(im):\n",
    "    \"\"\"\n",
    "    do image processing in this function\n",
    "    \"\"\"\n",
    "    clahe = cv.createCLAHE(clipLimit=2.0, tileGridSize=(16,16))\n",
    "    \n",
    "    return clahe.apply(im)"
   ]
  },
  {
   "cell_type": "code",
   "execution_count": 5,
   "metadata": {},
   "outputs": [],
   "source": [
    "# BoostNet Dataset\n",
    "# from SpineWeb dataset16\n",
    "# link: http://spineweb.digitalimaginggroup.ca/spineweb/index.php?n=Main.Datasets\n",
    "\n",
    "class BoostNetDataset(torch.utils.data.Dataset):\n",
    "    def __init__(self, path, train=True):\n",
    "        self.images = []\n",
    "        self.labels = []\n",
    "        \n",
    "        if train:\n",
    "            image_path = path + \"/data/training/\"\n",
    "            names = csv.reader(open(path + \"/labels/training/filenames.csv\", 'r'))\n",
    "            landmarks = csv.reader(open(path + \"/labels/training/landmarks.csv\", 'r'))\n",
    "        else:\n",
    "            image_path = path + \"/data/test/\"\n",
    "            names = csv.reader(open(path + \"/labels/test/filenames.csv\", 'r'))\n",
    "            landmarks = csv.reader(open(path + \"/labels/test/landmarks.csv\", 'r'))\n",
    "        \n",
    "        for landmark_each_image in landmarks:\n",
    "            coordinate_list = []\n",
    "            for coordinate in landmark_each_image:\n",
    "                coordinate_list.append(float(coordinate))\n",
    "\n",
    "            self.labels.append(torch.Tensor(coordinate_list))\n",
    "\n",
    "        for i, name in enumerate(names):\n",
    "            origin_image = cv.imread(image_path + name[0], cv.COLOR_BGR2GRAY)\n",
    "            \n",
    "            processed_image = origin_image #img_process(origin_image)\n",
    "            \n",
    "            #resize\n",
    "            target_height = 512\n",
    "            target_width = 256\n",
    "            image = np.zeros((target_height, target_width), np.uint8)\n",
    "            cv.resize(processed_image, (target_width, target_height), image)\n",
    "\n",
    "            image = np.reshape(image, (1, image.shape[0], image.shape[1]))\n",
    "\n",
    "            image_tensor = torch.from_numpy(image).float()\n",
    "            \n",
    "            self.images.append(image_tensor)\n",
    "\n",
    "        \n",
    "    def __getitem__(self, index):\n",
    "        image = self.images[index]\n",
    "        label = self.labels[index]\n",
    "        \n",
    "        return image, label\n",
    "    \n",
    "    def __len__(self):\n",
    "        return len(self.images)"
   ]
  },
  {
   "cell_type": "code",
   "execution_count": 6,
   "metadata": {},
   "outputs": [
    {
     "name": "stdout",
     "output_type": "stream",
     "text": [
      "UNet(\n",
      "  (down_path): ModuleList(\n",
      "    (0): UNetConvBlock(\n",
      "      (block): Sequential(\n",
      "        (0): Conv2d(1, 64, kernel_size=(3, 3), stride=(1, 1))\n",
      "        (1): ReLU()\n",
      "        (2): BatchNorm2d(64, eps=1e-05, momentum=0.1, affine=True, track_running_stats=True)\n",
      "        (3): Conv2d(64, 64, kernel_size=(3, 3), stride=(1, 1))\n",
      "        (4): ReLU()\n",
      "        (5): BatchNorm2d(64, eps=1e-05, momentum=0.1, affine=True, track_running_stats=True)\n",
      "      )\n",
      "    )\n",
      "    (1): UNetConvBlock(\n",
      "      (block): Sequential(\n",
      "        (0): Conv2d(64, 128, kernel_size=(3, 3), stride=(1, 1))\n",
      "        (1): ReLU()\n",
      "        (2): BatchNorm2d(128, eps=1e-05, momentum=0.1, affine=True, track_running_stats=True)\n",
      "        (3): Conv2d(128, 128, kernel_size=(3, 3), stride=(1, 1))\n",
      "        (4): ReLU()\n",
      "        (5): BatchNorm2d(128, eps=1e-05, momentum=0.1, affine=True, track_running_stats=True)\n",
      "      )\n",
      "    )\n",
      "    (2): UNetConvBlock(\n",
      "      (block): Sequential(\n",
      "        (0): Conv2d(128, 256, kernel_size=(3, 3), stride=(1, 1))\n",
      "        (1): ReLU()\n",
      "        (2): BatchNorm2d(256, eps=1e-05, momentum=0.1, affine=True, track_running_stats=True)\n",
      "        (3): Conv2d(256, 256, kernel_size=(3, 3), stride=(1, 1))\n",
      "        (4): ReLU()\n",
      "        (5): BatchNorm2d(256, eps=1e-05, momentum=0.1, affine=True, track_running_stats=True)\n",
      "      )\n",
      "    )\n",
      "    (3): UNetConvBlock(\n",
      "      (block): Sequential(\n",
      "        (0): Conv2d(256, 512, kernel_size=(3, 3), stride=(1, 1))\n",
      "        (1): ReLU()\n",
      "        (2): BatchNorm2d(512, eps=1e-05, momentum=0.1, affine=True, track_running_stats=True)\n",
      "        (3): Conv2d(512, 512, kernel_size=(3, 3), stride=(1, 1))\n",
      "        (4): ReLU()\n",
      "        (5): BatchNorm2d(512, eps=1e-05, momentum=0.1, affine=True, track_running_stats=True)\n",
      "      )\n",
      "    )\n",
      "  )\n",
      "  (up_path): ModuleList(\n",
      "    (0): UNetUpBlock(\n",
      "      (up): Sequential(\n",
      "        (0): Upsample(scale_factor=2.0, mode=bilinear)\n",
      "        (1): Conv2d(512, 256, kernel_size=(1, 1), stride=(1, 1))\n",
      "      )\n",
      "      (conv_block): UNetConvBlock(\n",
      "        (block): Sequential(\n",
      "          (0): Conv2d(512, 256, kernel_size=(3, 3), stride=(1, 1))\n",
      "          (1): ReLU()\n",
      "          (2): BatchNorm2d(256, eps=1e-05, momentum=0.1, affine=True, track_running_stats=True)\n",
      "          (3): Conv2d(256, 256, kernel_size=(3, 3), stride=(1, 1))\n",
      "          (4): ReLU()\n",
      "          (5): BatchNorm2d(256, eps=1e-05, momentum=0.1, affine=True, track_running_stats=True)\n",
      "        )\n",
      "      )\n",
      "    )\n",
      "    (1): UNetUpBlock(\n",
      "      (up): Sequential(\n",
      "        (0): Upsample(scale_factor=2.0, mode=bilinear)\n",
      "        (1): Conv2d(256, 128, kernel_size=(1, 1), stride=(1, 1))\n",
      "      )\n",
      "      (conv_block): UNetConvBlock(\n",
      "        (block): Sequential(\n",
      "          (0): Conv2d(256, 128, kernel_size=(3, 3), stride=(1, 1))\n",
      "          (1): ReLU()\n",
      "          (2): BatchNorm2d(128, eps=1e-05, momentum=0.1, affine=True, track_running_stats=True)\n",
      "          (3): Conv2d(128, 128, kernel_size=(3, 3), stride=(1, 1))\n",
      "          (4): ReLU()\n",
      "          (5): BatchNorm2d(128, eps=1e-05, momentum=0.1, affine=True, track_running_stats=True)\n",
      "        )\n",
      "      )\n",
      "    )\n",
      "    (2): UNetUpBlock(\n",
      "      (up): Sequential(\n",
      "        (0): Upsample(scale_factor=2.0, mode=bilinear)\n",
      "        (1): Conv2d(128, 64, kernel_size=(1, 1), stride=(1, 1))\n",
      "      )\n",
      "      (conv_block): UNetConvBlock(\n",
      "        (block): Sequential(\n",
      "          (0): Conv2d(128, 64, kernel_size=(3, 3), stride=(1, 1))\n",
      "          (1): ReLU()\n",
      "          (2): BatchNorm2d(64, eps=1e-05, momentum=0.1, affine=True, track_running_stats=True)\n",
      "          (3): Conv2d(64, 64, kernel_size=(3, 3), stride=(1, 1))\n",
      "          (4): ReLU()\n",
      "          (5): BatchNorm2d(64, eps=1e-05, momentum=0.1, affine=True, track_running_stats=True)\n",
      "        )\n",
      "      )\n",
      "    )\n",
      "  )\n",
      "  (last): Conv2d(64, 136, kernel_size=(1, 1), stride=(1, 1))\n",
      ")\n"
     ]
    }
   ],
   "source": [
    "from unet import UNet\n",
    "\n",
    "res_unet = UNet(n_classes=136, in_channels=1, depth=4).to(device)\n",
    "\n",
    "print(res_unet)"
   ]
  },
  {
   "cell_type": "code",
   "execution_count": 7,
   "metadata": {},
   "outputs": [],
   "source": [
    "# define loss function\n",
    "import torch.optim as optim\n",
    "\n",
    "criterion = nn.MSELoss().to(device)\n",
    "\n",
    "optimizer = optim.SGD(res_unet.parameters(), lr=0.08)\n",
    "scheduler = torch.optim.lr_scheduler.StepLR(optimizer, step_size=200, gamma=0.9)"
   ]
  },
  {
   "cell_type": "code",
   "execution_count": 8,
   "metadata": {},
   "outputs": [],
   "source": [
    "# function to compute loss\n",
    "\n",
    "def compute_loss(net, data_loader):\n",
    "    loss_sum = 0\n",
    "    with torch.no_grad():\n",
    "        for i, data in enumerate(data_loader, 0):\n",
    "            images, labels = data\n",
    "            \n",
    "            images = images.to(device)\n",
    "            labels = labels.to(device)\n",
    "                \n",
    "            outputs = res_unet(images)\n",
    "            loss = criterion(outputs.float(), labels.float()) \n",
    "            loss_sum += loss.item()\n",
    "            \n",
    "    return loss_sum / len(data_loader)"
   ]
  },
  {
   "cell_type": "code",
   "execution_count": 9,
   "metadata": {},
   "outputs": [
    {
     "name": "stdout",
     "output_type": "stream",
     "text": [
      "number of batches(training):  121\n",
      "number of batches(testing):  32\n"
     ]
    }
   ],
   "source": [
    "path = \"E:/Workspace/AASCE2019/boostnet_labeldata\"\n",
    "train_data = BoostNetDataset(path, train=True)\n",
    "test_data = BoostNetDataset(path, train=False)\n",
    "\n",
    "batch = 4\n",
    "train_loader = torch.utils.data.DataLoader(train_data, batch_size=batch,\n",
    "                                         shuffle=True, num_workers=0)\n",
    "\n",
    "test_loader = torch.utils.data.DataLoader(test_data, batch_size=batch,\n",
    "                                         shuffle=True, num_workers=0)\n",
    "\n",
    "\n",
    "print(\"number of batches(training): \", len(train_loader))\n",
    "print(\"number of batches(testing): \", len(test_loader))"
   ]
  },
  {
   "cell_type": "code",
   "execution_count": 10,
   "metadata": {},
   "outputs": [
    {
     "name": "stderr",
     "output_type": "stream",
     "text": [
      "C:\\Users\\wlgq\\AppData\\Local\\conda\\conda\\envs\\pt\\lib\\site-packages\\torch\\nn\\functional.py:2479: UserWarning: Default upsampling behavior when mode=bilinear is changed to align_corners=False since 0.4.0. Please specify align_corners=True if the old behavior is desired. See the documentation of nn.Upsample for details.\n",
      "  \"See the documentation of nn.Upsample for details.\".format(mode))\n"
     ]
    },
    {
     "name": "stdout",
     "output_type": "stream",
     "text": [
      "epoch number 1 train_loss 0.17459782206815136 test_loss 0.17067789053544402\n",
      "epoch number 2 train_loss 0.09191760562421862 test_loss 0.08884692308492959\n",
      "epoch number 3 train_loss 0.03363108063840176 test_loss 0.03133136313408613\n",
      "epoch number 4 train_loss 0.011846105725897 test_loss 0.010058526415377855\n",
      "epoch number 5 train_loss 0.007337276629472444 test_loss 0.0060269662499194965\n",
      "epoch number 6 train_loss 0.006041667747411354 test_loss 0.004822616683668457\n",
      "epoch number 7 train_loss 0.005867593469529236 test_loss 0.0046429280992015265\n",
      "epoch number 8 train_loss 0.0056256982132269085 test_loss 0.00451597958090133\n",
      "epoch number 9 train_loss 0.005693410072006162 test_loss 0.0044980141101405025\n",
      "epoch number 10 train_loss 0.005405695650010747 test_loss 0.004419972494360991\n",
      "epoch number 11 train_loss 0.005242760137323875 test_loss 0.004331060488766525\n",
      "epoch number 12 train_loss 0.005256963034606855 test_loss 0.004360156184702646\n",
      "epoch number 13 train_loss 0.005272260281134181 test_loss 0.004316889673646074\n",
      "epoch number 14 train_loss 0.005062941066374279 test_loss 0.004280068151274463\n",
      "epoch number 15 train_loss 0.005017945171557059 test_loss 0.004134655635425588\n",
      "Finished Training\n"
     ]
    }
   ],
   "source": [
    "epoch_num = 15\n",
    "\n",
    "loss1 = []\n",
    "loss2 = []\n",
    "\n",
    "for epoch in range(epoch_num):\n",
    "   \n",
    "    for i, data in enumerate(train_loader):\n",
    "\n",
    "        # get the inputs\n",
    "        inputs, labels = data\n",
    "\n",
    "        inputs = inputs.to(device)\n",
    "        labels = labels.to(device)\n",
    "        # zero the parameter gradients\n",
    "        optimizer.zero_grad()\n",
    "        \n",
    "        # forward + backward + optimize\n",
    "        outputs = res_unet(inputs)\n",
    "\n",
    "        loss = criterion(outputs.float(), labels.float())\n",
    "        \n",
    "        loss.backward()\n",
    "        optimizer.step()\n",
    "        \n",
    "    scheduler.step()    \n",
    "    \n",
    "    train_loss = compute_loss(res_unet, train_loader)\n",
    "    loss1.append(train_loss)\n",
    "\n",
    "    test_loss = compute_loss(res_unet, test_loader)\n",
    "    loss2.append(test_loss)\n",
    "    print(\"epoch number\", epoch+1, \"train_loss\", train_loss, \"test_loss\", test_loss)\n",
    "\n",
    "print('Finished Training')"
   ]
  },
  {
   "cell_type": "code",
   "execution_count": 11,
   "metadata": {},
   "outputs": [
    {
     "data": {
      "image/png": "[encoded data removed]",
      "text/plain": [
       "<Figure size 432x288 with 1 Axes>"
      ]
     },
     "metadata": {
      "needs_background": "light"
     },
     "output_type": "display_data"
    }
   ],
   "source": [
    "x = range(1, epoch_num+1)\n",
    "\n",
    "plt.plot(x, loss1, label=\"training loss\")\n",
    "plt.plot(x, loss2, label=\"testing loss\")\n",
    "plt.xlabel(\"epoch number\")\n",
    "#plt.xticks(np.linspace(1,epoch_num,epoch_num))\n",
    "plt.ylabel(\"loss\")\n",
    "plt.title(\"loss graph\")\n",
    "plt.legend()\n",
    "#plt.savefig(\"./coordinate-regression-loss.jpg\")\n",
    "plt.show()"
   ]
  },
  {
   "cell_type": "code",
   "execution_count": 12,
   "metadata": {},
   "outputs": [],
   "source": [
    "torch.save(res_unet, 'E:/Workspace/ke30_u7_AASCE2019/unet_mean.pth')"
   ]
  },
  {
   "cell_type": "code",
   "execution_count": null,
   "metadata": {},
   "outputs": [],
   "source": [
    "def CVimshow2pltimshow(cv_img):\n",
    "    \"\"\"\n",
    "    cv_img: [3, height, width], BGR, numpy array, int(0-255)\n",
    "    \"\"\"\n",
    "    b,g,r = cv.split(cv_img)  \n",
    "    plt_img = cv.merge([r,g,b]).astype(np.int)\n",
    "    return plt_img"
   ]
  },
  {
   "cell_type": "code",
   "execution_count": null,
   "metadata": {},
   "outputs": [],
   "source": [
    "import matplotlib as mpl\n",
    "mpl.rcParams['figure.figsize'] = (20, 20)"
   ]
  },
  {
   "cell_type": "code",
   "execution_count": null,
   "metadata": {},
   "outputs": [],
   "source": [
    "dataiter = iter(test_loader)\n",
    "images, labels = dataiter.next()\n",
    "batch, channel, height, width = images.shape\n",
    "\n",
    "ret = res_unet(images.to(device))\n",
    "\n",
    "batch_img = np.zeros((height, width * batch, 3), np.int)\n",
    "\n",
    "for i in range(batch):\n",
    "    sample = images[i].numpy().squeeze(0)\n",
    "    sample_BGR = cv.cvtColor(sample, cv.COLOR_GRAY2BGR)\n",
    "\n",
    "    label = labels[i]\n",
    "    predict = ret[i]\n",
    "\n",
    "    point_num = len(label) // 2\n",
    "    for j in range(point_num):\n",
    "        cv.circle(sample_BGR, (int(label[j] * width), int(label[j + point_num]* height)), 2, (255, 255, 0))\n",
    "        cv.circle(sample_BGR, (int(predict[j] * width), int(predict[j + point_num]* height)), 2, (0, 0, 255))\n",
    "        \n",
    "    plt_img = CVimshow2pltimshow(sample_BGR)\n",
    "    batch_img[:, i * width:(i+1) * width, :] = plt_img"
   ]
  },
  {
   "cell_type": "code",
   "execution_count": null,
   "metadata": {},
   "outputs": [],
   "source": [
    "plt.imshow(batch_img)"
   ]
  },
  {
   "cell_type": "code",
   "execution_count": null,
   "metadata": {},
   "outputs": [],
   "source": []
  },
  {
   "cell_type": "code",
   "execution_count": null,
   "metadata": {},
   "outputs": [],
   "source": []
  },
  {
   "cell_type": "code",
   "execution_count": null,
   "metadata": {},
   "outputs": [],
   "source": []
  }
 ],
 "metadata": {
  "kernelspec": {
   "display_name": "Python 3",
   "language": "python",
   "name": "python3"
  },
  "language_info": {
   "codemirror_mode": {
    "name": "ipython",
    "version": 3
   },
   "file_extension": ".py",
   "mimetype": "text/x-python",
   "name": "python",
   "nbconvert_exporter": "python",
   "pygments_lexer": "ipython3",
   "version": "3.6.9"
  }
 },
 "nbformat": 4,
 "nbformat_minor": 2
}
